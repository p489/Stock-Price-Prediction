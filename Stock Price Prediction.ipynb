{
 "cells": [
  {
   "cell_type": "code",
   "execution_count": 8,
   "metadata": {},
   "outputs": [],
   "source": [
    "import pandas_datareader as pdr\n",
    "import pandas as pd\n",
    "from datetime import datetime\n",
    "import matplotlib.pyplot as plt\n",
    "%matplotlib inline"
   ]
  },
  {
   "cell_type": "code",
   "execution_count": 2,
   "metadata": {},
   "outputs": [],
   "source": [
    "import warnings\n",
    "warnings.filterwarnings('ignore')"
   ]
  },
  {
   "cell_type": "code",
   "execution_count": 3,
   "metadata": {},
   "outputs": [],
   "source": [
    "df = pdr.get_data_yahoo('TATASTEEL.NS')"
   ]
  },
  {
   "cell_type": "code",
   "execution_count": 4,
   "metadata": {},
   "outputs": [
    {
     "data": {
      "text/html": [
       "<div>\n",
       "<style scoped>\n",
       "    .dataframe tbody tr th:only-of-type {\n",
       "        vertical-align: middle;\n",
       "    }\n",
       "\n",
       "    .dataframe tbody tr th {\n",
       "        vertical-align: top;\n",
       "    }\n",
       "\n",
       "    .dataframe thead th {\n",
       "        text-align: right;\n",
       "    }\n",
       "</style>\n",
       "<table border=\"1\" class=\"dataframe\">\n",
       "  <thead>\n",
       "    <tr style=\"text-align: right;\">\n",
       "      <th></th>\n",
       "      <th>High</th>\n",
       "      <th>Low</th>\n",
       "      <th>Open</th>\n",
       "      <th>Close</th>\n",
       "      <th>Volume</th>\n",
       "      <th>Adj Close</th>\n",
       "    </tr>\n",
       "    <tr>\n",
       "      <th>Date</th>\n",
       "      <th></th>\n",
       "      <th></th>\n",
       "      <th></th>\n",
       "      <th></th>\n",
       "      <th></th>\n",
       "      <th></th>\n",
       "    </tr>\n",
       "  </thead>\n",
       "  <tbody>\n",
       "    <tr>\n",
       "      <th>2017-08-16</th>\n",
       "      <td>60.274883</td>\n",
       "      <td>59.112545</td>\n",
       "      <td>59.546040</td>\n",
       "      <td>60.136738</td>\n",
       "      <td>76939845.0</td>\n",
       "      <td>24.401810</td>\n",
       "    </tr>\n",
       "    <tr>\n",
       "      <th>2017-08-17</th>\n",
       "      <td>60.689323</td>\n",
       "      <td>59.460293</td>\n",
       "      <td>60.031937</td>\n",
       "      <td>59.584148</td>\n",
       "      <td>48456307.0</td>\n",
       "      <td>24.177586</td>\n",
       "    </tr>\n",
       "    <tr>\n",
       "      <th>2017-08-18</th>\n",
       "      <td>59.903316</td>\n",
       "      <td>59.079201</td>\n",
       "      <td>59.303093</td>\n",
       "      <td>59.607967</td>\n",
       "      <td>35541878.0</td>\n",
       "      <td>24.187250</td>\n",
       "    </tr>\n",
       "    <tr>\n",
       "      <th>2017-08-21</th>\n",
       "      <td>60.846523</td>\n",
       "      <td>58.983925</td>\n",
       "      <td>60.298702</td>\n",
       "      <td>59.217346</td>\n",
       "      <td>43827924.0</td>\n",
       "      <td>24.028748</td>\n",
       "    </tr>\n",
       "    <tr>\n",
       "      <th>2017-08-22</th>\n",
       "      <td>60.017643</td>\n",
       "      <td>58.536140</td>\n",
       "      <td>60.017643</td>\n",
       "      <td>59.031563</td>\n",
       "      <td>38737966.0</td>\n",
       "      <td>23.953360</td>\n",
       "    </tr>\n",
       "  </tbody>\n",
       "</table>\n",
       "</div>"
      ],
      "text/plain": [
       "                 High        Low       Open      Close      Volume  Adj Close\n",
       "Date                                                                         \n",
       "2017-08-16  60.274883  59.112545  59.546040  60.136738  76939845.0  24.401810\n",
       "2017-08-17  60.689323  59.460293  60.031937  59.584148  48456307.0  24.177586\n",
       "2017-08-18  59.903316  59.079201  59.303093  59.607967  35541878.0  24.187250\n",
       "2017-08-21  60.846523  58.983925  60.298702  59.217346  43827924.0  24.028748\n",
       "2017-08-22  60.017643  58.536140  60.017643  59.031563  38737966.0  23.953360"
      ]
     },
     "execution_count": 4,
     "metadata": {},
     "output_type": "execute_result"
    }
   ],
   "source": [
    "df.head()"
   ]
  },
  {
   "cell_type": "code",
   "execution_count": 9,
   "metadata": {},
   "outputs": [],
   "source": [
    "df1 = df['Close']"
   ]
  },
  {
   "cell_type": "code",
   "execution_count": 11,
   "metadata": {},
   "outputs": [
    {
     "data": {
      "image/png": "[encoded data removed]",
      "text/plain": [
       "<Figure size 864x288 with 1 Axes>"
      ]
     },
     "metadata": {
      "needs_background": "light"
     },
     "output_type": "display_data"
    }
   ],
   "source": [
    "df1.plot(figsize=(12,4));"
   ]
  },
  {
   "cell_type": "code",
   "execution_count": 14,
   "metadata": {},
   "outputs": [],
   "source": [
    "#Since LSTM are sensitive to the scale of the data so we'll apply MinMax Scaler\n",
    "import numpy as np\n",
    "from sklearn.preprocessing import MinMaxScaler\n",
    "scaler = MinMaxScaler(feature_range=(0,1))\n",
    "df1 = scaler.fit_transform(np.array(df1).reshape(-1,1))"
   ]
  },
  {
   "cell_type": "code",
   "execution_count": 15,
   "metadata": {},
   "outputs": [
    {
     "data": {
      "text/plain": [
       "(1235, 1)"
      ]
     },
     "execution_count": 15,
     "metadata": {},
     "output_type": "execute_result"
    }
   ],
   "source": [
    "df1.shape"
   ]
  },
  {
   "cell_type": "code",
   "execution_count": 17,
   "metadata": {},
   "outputs": [
    {
     "name": "stdout",
     "output_type": "stream",
     "text": [
      "[[0.27465521]\n",
      " [0.27028916]\n",
      " [0.27047736]\n",
      " ...\n",
      " [0.66230787]\n",
      " [0.66151777]\n",
      " [0.68956662]]\n"
     ]
    }
   ],
   "source": [
    "print(df1)"
   ]
  },
  {
   "cell_type": "code",
   "execution_count": 18,
   "metadata": {},
   "outputs": [],
   "source": [
    "##splitting dataset into train and test split\n",
    "train_size = int(len(df1)*0.70)\n",
    "test_size = len(df1) - train_size\n",
    "train_data, test_data = df1[0:train_size,:],df1[train_size:len(df1),:1]"
   ]
  },
  {
   "cell_type": "code",
   "execution_count": 23,
   "metadata": {},
   "outputs": [],
   "source": [
    "#time steps\n",
    "def dataset_create(df,time_step=1):\n",
    "    data_X, data_Y = [], []\n",
    "    for i in range(len(df) - time_step-1):\n",
    "        a = df[i:(i+time_step),0]\n",
    "        data_X.append(a)\n",
    "        data_Y.append(df[i+time_step,0])\n",
    "    return np.array(data_X), np.array(data_Y)"
   ]
  },
  {
   "cell_type": "code",
   "execution_count": 24,
   "metadata": {},
   "outputs": [],
   "source": [
    "#reshape into X = t, t+1, t+2, t+3 and Y = t+4\n",
    "time_step = 100\n",
    "X_train, y_train = dataset_create(train_data, time_step)\n",
    "X_test, y_test = dataset_create(test_data, time_step)"
   ]
  },
  {
   "cell_type": "code",
   "execution_count": 27,
   "metadata": {},
   "outputs": [
    {
     "data": {
      "text/plain": [
       "((763, 100), (763,))"
      ]
     },
     "execution_count": 27,
     "metadata": {},
     "output_type": "execute_result"
    }
   ],
   "source": [
    "X_train.shape, y_train.shape"
   ]
  },
  {
   "cell_type": "code",
   "execution_count": 28,
   "metadata": {},
   "outputs": [
    {
     "data": {
      "text/plain": [
       "((270, 100), (270,))"
      ]
     },
     "execution_count": 28,
     "metadata": {},
     "output_type": "execute_result"
    }
   ],
   "source": [
    "X_test.shape, y_test.shape"
   ]
  },
  {
   "cell_type": "code",
   "execution_count": 29,
   "metadata": {},
   "outputs": [],
   "source": [
    "#reshaping \n",
    "X_train = X_train.reshape(X_train.shape[0], X_train.shape[1], 1)\n",
    "X_test = X_test.reshape(X_test.shape[0], X_test.shape[1], 1)"
   ]
  },
  {
   "cell_type": "code",
   "execution_count": 33,
   "metadata": {},
   "outputs": [],
   "source": [
    "#create the stacked lstm model\n",
    "import tensorflow\n",
    "from tensorflow.keras.models import Sequential\n",
    "from tensorflow.keras.layers import Dense\n",
    "from tensorflow.keras.layers import LSTM"
   ]
  },
  {
   "cell_type": "code",
   "execution_count": 58,
   "metadata": {},
   "outputs": [],
   "source": [
    "model=Sequential()\n",
    "model.add(LSTM(50,return_sequences=True,input_shape=(100,1)))\n",
    "model.add(LSTM(50,return_sequences=True))\n",
    "model.add(LSTM(50))\n",
    "model.add(Dense(1))\n",
    "model.compile(loss='mean_squared_error',optimizer='adam')"
   ]
  },
  {
   "cell_type": "code",
   "execution_count": 63,
   "metadata": {},
   "outputs": [],
   "source": [
    "from sklearn.model_selection import RandomizedSearchCV\n",
    "parameters = {'batch_size': [50, 32],\n",
    "              'epochs': [50, 25],\n",
    "              'optimizer': ['adam', 'rmsprop','sgd','adadelta']}\n",
    "grid_search = RandomizedSearchCV(estimator = model,param_distributions=parameters,n_iter=5,scoring=None)\n",
    "# fitting the model and Calculating the best parameters.\n",
    "grid_search = grid_search.fit(X_train, y_train)\n",
    "best_parameters = grid_search.best_params_\n",
    "model=grid_search.best_estimator_"
   ]
  },
  {
   "cell_type": "code",
   "execution_count": 35,
   "metadata": {},
   "outputs": [
    {
     "name": "stdout",
     "output_type": "stream",
     "text": [
      "Model: \"sequential\"\n",
      "_________________________________________________________________\n",
      "Layer (type)                 Output Shape              Param #   \n",
      "=================================================================\n",
      "lstm (LSTM)                  (None, 100, 50)           10400     \n",
      "_________________________________________________________________\n",
      "lstm_1 (LSTM)                (None, 100, 50)           20200     \n",
      "_________________________________________________________________\n",
      "lstm_2 (LSTM)                (None, 50)                20200     \n",
      "_________________________________________________________________\n",
      "dense (Dense)                (None, 1)                 51        \n",
      "=================================================================\n",
      "Total params: 50,851\n",
      "Trainable params: 50,851\n",
      "Non-trainable params: 0\n",
      "_________________________________________________________________\n"
     ]
    }
   ],
   "source": [
    "model.summary()"
   ]
  },
  {
   "cell_type": "code",
   "execution_count": 37,
   "metadata": {},
   "outputs": [
    {
     "name": "stdout",
     "output_type": "stream",
     "text": [
      "Epoch 1/100\n",
      "12/12 [==============================] - 15s 527ms/step - loss: 0.0134 - val_loss: 0.1161\n",
      "Epoch 2/100\n",
      "12/12 [==============================] - 3s 293ms/step - loss: 0.0032 - val_loss: 0.0302\n",
      "Epoch 3/100\n",
      "12/12 [==============================] - 4s 290ms/step - loss: 0.0016 - val_loss: 0.0160\n",
      "Epoch 4/100\n",
      "12/12 [==============================] - 4s 297ms/step - loss: 8.9962e-04 - val_loss: 0.0046\n",
      "Epoch 5/100\n",
      "12/12 [==============================] - 3s 273ms/step - loss: 8.3006e-04 - val_loss: 0.0044\n",
      "Epoch 6/100\n",
      "12/12 [==============================] - 3s 290ms/step - loss: 7.4123e-04 - val_loss: 0.0052\n",
      "Epoch 7/100\n",
      "12/12 [==============================] - 3s 288ms/step - loss: 6.9226e-04 - val_loss: 0.0050\n",
      "Epoch 8/100\n",
      "12/12 [==============================] - 3s 283ms/step - loss: 6.6415e-04 - val_loss: 0.0038\n",
      "Epoch 9/100\n",
      "12/12 [==============================] - 4s 295ms/step - loss: 6.2207e-04 - val_loss: 0.0036\n",
      "Epoch 10/100\n",
      "12/12 [==============================] - 4s 298ms/step - loss: 5.8503e-04 - val_loss: 0.0035\n",
      "Epoch 11/100\n",
      "12/12 [==============================] - 4s 301ms/step - loss: 5.4600e-04 - val_loss: 0.0032\n",
      "Epoch 12/100\n",
      "12/12 [==============================] - 4s 306ms/step - loss: 5.1705e-04 - val_loss: 0.0030\n",
      "Epoch 13/100\n",
      "12/12 [==============================] - 4s 297ms/step - loss: 4.8879e-04 - val_loss: 0.0036\n",
      "Epoch 14/100\n",
      "12/12 [==============================] - 4s 298ms/step - loss: 4.7652e-04 - val_loss: 0.0035\n",
      "Epoch 15/100\n",
      "12/12 [==============================] - 3s 294ms/step - loss: 4.5971e-04 - val_loss: 0.0040\n",
      "Epoch 16/100\n",
      "12/12 [==============================] - 3s 292ms/step - loss: 4.8437e-04 - val_loss: 0.0065\n",
      "Epoch 17/100\n",
      "12/12 [==============================] - 3s 280ms/step - loss: 4.5950e-04 - val_loss: 0.0026\n",
      "Epoch 18/100\n",
      "12/12 [==============================] - 3s 294ms/step - loss: 4.6971e-04 - val_loss: 0.0068\n",
      "Epoch 19/100\n",
      "12/12 [==============================] - 3s 287ms/step - loss: 4.6768e-04 - val_loss: 0.0035\n",
      "Epoch 20/100\n",
      "12/12 [==============================] - 3s 285ms/step - loss: 4.3425e-04 - val_loss: 0.0032\n",
      "Epoch 21/100\n",
      "12/12 [==============================] - 3s 274ms/step - loss: 4.2182e-04 - val_loss: 0.0038\n",
      "Epoch 22/100\n",
      "12/12 [==============================] - 4s 307ms/step - loss: 4.3219e-04 - val_loss: 0.0039\n",
      "Epoch 23/100\n",
      "12/12 [==============================] - 3s 284ms/step - loss: 4.2242e-04 - val_loss: 0.0046\n",
      "Epoch 24/100\n",
      "12/12 [==============================] - 3s 291ms/step - loss: 4.0590e-04 - val_loss: 0.0049\n",
      "Epoch 25/100\n",
      "12/12 [==============================] - 3s 272ms/step - loss: 4.5512e-04 - val_loss: 0.0026\n",
      "Epoch 26/100\n",
      "12/12 [==============================] - 4s 299ms/step - loss: 4.2491e-04 - val_loss: 0.0053\n",
      "Epoch 27/100\n",
      "12/12 [==============================] - 4s 307ms/step - loss: 3.9099e-04 - val_loss: 0.0055\n",
      "Epoch 28/100\n",
      "12/12 [==============================] - 4s 306ms/step - loss: 3.9472e-04 - val_loss: 0.0033\n",
      "Epoch 29/100\n",
      "12/12 [==============================] - 3s 278ms/step - loss: 3.8732e-04 - val_loss: 0.0033\n",
      "Epoch 30/100\n",
      "12/12 [==============================] - 3s 296ms/step - loss: 3.9556e-04 - val_loss: 0.0044\n",
      "Epoch 31/100\n",
      "12/12 [==============================] - 3s 241ms/step - loss: 4.1584e-04 - val_loss: 0.0033\n",
      "Epoch 32/100\n",
      "12/12 [==============================] - 2s 191ms/step - loss: 3.9376e-04 - val_loss: 0.0043\n",
      "Epoch 33/100\n",
      "12/12 [==============================] - 2s 191ms/step - loss: 4.0396e-04 - val_loss: 0.0037\n",
      "Epoch 34/100\n",
      "12/12 [==============================] - 2s 206ms/step - loss: 3.9431e-04 - val_loss: 0.0032\n",
      "Epoch 35/100\n",
      "12/12 [==============================] - 3s 211ms/step - loss: 3.8899e-04 - val_loss: 0.0054\n",
      "Epoch 36/100\n",
      "12/12 [==============================] - 2s 189ms/step - loss: 3.6747e-04 - val_loss: 0.0026\n",
      "Epoch 37/100\n",
      "12/12 [==============================] - 2s 180ms/step - loss: 3.6179e-04 - val_loss: 0.0046\n",
      "Epoch 38/100\n",
      "12/12 [==============================] - 2s 198ms/step - loss: 3.4047e-04 - val_loss: 0.0024\n",
      "Epoch 39/100\n",
      "12/12 [==============================] - 2s 204ms/step - loss: 3.5228e-04 - val_loss: 0.0034\n",
      "Epoch 40/100\n",
      "12/12 [==============================] - 2s 191ms/step - loss: 3.2959e-04 - val_loss: 0.0028\n",
      "Epoch 41/100\n",
      "12/12 [==============================] - 2s 183ms/step - loss: 3.5082e-04 - val_loss: 0.0063\n",
      "Epoch 42/100\n",
      "12/12 [==============================] - 2s 180ms/step - loss: 3.6301e-04 - val_loss: 0.0026\n",
      "Epoch 43/100\n",
      "12/12 [==============================] - 2s 177ms/step - loss: 3.1800e-04 - val_loss: 0.0036\n",
      "Epoch 44/100\n",
      "12/12 [==============================] - 2s 179ms/step - loss: 3.3694e-04 - val_loss: 0.0044\n",
      "Epoch 45/100\n",
      "12/12 [==============================] - 2s 197ms/step - loss: 3.1957e-04 - val_loss: 0.0021\n",
      "Epoch 46/100\n",
      "12/12 [==============================] - 2s 182ms/step - loss: 3.3935e-04 - val_loss: 0.0068\n",
      "Epoch 47/100\n",
      "12/12 [==============================] - 2s 199ms/step - loss: 3.4281e-04 - val_loss: 0.0028\n",
      "Epoch 48/100\n",
      "12/12 [==============================] - 3s 202ms/step - loss: 3.0825e-04 - val_loss: 0.0057\n",
      "Epoch 49/100\n",
      "12/12 [==============================] - 2s 184ms/step - loss: 3.3886e-04 - val_loss: 0.0027\n",
      "Epoch 50/100\n",
      "12/12 [==============================] - 2s 186ms/step - loss: 2.9372e-04 - val_loss: 0.0051\n",
      "Epoch 51/100\n",
      "12/12 [==============================] - 2s 179ms/step - loss: 3.0276e-04 - val_loss: 0.0027\n",
      "Epoch 52/100\n",
      "12/12 [==============================] - 2s 179ms/step - loss: 2.9341e-04 - val_loss: 0.0053\n",
      "Epoch 53/100\n",
      "12/12 [==============================] - 2s 187ms/step - loss: 3.0041e-04 - val_loss: 0.0022\n",
      "Epoch 54/100\n",
      "12/12 [==============================] - 2s 193ms/step - loss: 2.9812e-04 - val_loss: 0.0026\n",
      "Epoch 55/100\n",
      "12/12 [==============================] - 3s 199ms/step - loss: 3.0534e-04 - val_loss: 0.0048\n",
      "Epoch 56/100\n",
      "12/12 [==============================] - 2s 202ms/step - loss: 3.0843e-04 - val_loss: 0.0033\n",
      "Epoch 57/100\n",
      "12/12 [==============================] - 3s 226ms/step - loss: 2.6956e-04 - val_loss: 0.0035\n",
      "Epoch 58/100\n",
      "12/12 [==============================] - 3s 261ms/step - loss: 2.9843e-04 - val_loss: 0.0020\n",
      "Epoch 59/100\n",
      "12/12 [==============================] - 3s 219ms/step - loss: 2.8034e-04 - val_loss: 0.0037\n",
      "Epoch 60/100\n",
      "12/12 [==============================] - 3s 220ms/step - loss: 2.6147e-04 - val_loss: 0.0028\n",
      "Epoch 61/100\n",
      "12/12 [==============================] - 2s 201ms/step - loss: 2.6584e-04 - val_loss: 0.0047\n",
      "Epoch 62/100\n",
      "12/12 [==============================] - 2s 194ms/step - loss: 2.6682e-04 - val_loss: 0.0026\n",
      "Epoch 63/100\n",
      "12/12 [==============================] - 2s 191ms/step - loss: 2.5899e-04 - val_loss: 0.0026\n",
      "Epoch 64/100\n",
      "12/12 [==============================] - 2s 199ms/step - loss: 2.5507e-04 - val_loss: 0.0040\n",
      "Epoch 65/100\n",
      "12/12 [==============================] - 2s 204ms/step - loss: 2.7064e-04 - val_loss: 0.0042\n",
      "Epoch 66/100\n",
      "12/12 [==============================] - 2s 204ms/step - loss: 2.5989e-04 - val_loss: 0.0025\n",
      "Epoch 67/100\n",
      "12/12 [==============================] - 2s 189ms/step - loss: 2.5511e-04 - val_loss: 0.0047\n",
      "Epoch 68/100\n",
      "12/12 [==============================] - 2s 194ms/step - loss: 2.4339e-04 - val_loss: 0.0028\n",
      "Epoch 69/100\n",
      "12/12 [==============================] - 2s 195ms/step - loss: 2.3805e-04 - val_loss: 0.0040\n",
      "Epoch 70/100\n",
      "12/12 [==============================] - 2s 190ms/step - loss: 2.3683e-04 - val_loss: 0.0041\n",
      "Epoch 71/100\n",
      "12/12 [==============================] - 2s 176ms/step - loss: 2.3388e-04 - val_loss: 0.0025\n",
      "Epoch 72/100\n",
      "12/12 [==============================] - 2s 205ms/step - loss: 2.3201e-04 - val_loss: 0.0048\n",
      "Epoch 73/100\n",
      "12/12 [==============================] - 2s 198ms/step - loss: 2.3422e-04 - val_loss: 0.0018\n",
      "Epoch 74/100\n",
      "12/12 [==============================] - 3s 218ms/step - loss: 2.4860e-04 - val_loss: 0.0037\n",
      "Epoch 75/100\n",
      "12/12 [==============================] - 3s 276ms/step - loss: 2.3631e-04 - val_loss: 0.0029\n",
      "Epoch 76/100\n",
      "12/12 [==============================] - 2s 201ms/step - loss: 2.3518e-04 - val_loss: 0.0029\n",
      "Epoch 77/100\n",
      "12/12 [==============================] - 2s 213ms/step - loss: 2.3233e-04 - val_loss: 0.0017\n",
      "Epoch 78/100\n"
     ]
    },
    {
     "name": "stdout",
     "output_type": "stream",
     "text": [
      "12/12 [==============================] - 2s 200ms/step - loss: 2.1464e-04 - val_loss: 0.0022\n",
      "Epoch 79/100\n",
      "12/12 [==============================] - 2s 199ms/step - loss: 2.2031e-04 - val_loss: 0.0031\n",
      "Epoch 80/100\n",
      "12/12 [==============================] - 2s 177ms/step - loss: 2.1151e-04 - val_loss: 0.0029\n",
      "Epoch 81/100\n",
      "12/12 [==============================] - 2s 189ms/step - loss: 2.0931e-04 - val_loss: 0.0024\n",
      "Epoch 82/100\n",
      "12/12 [==============================] - 2s 197ms/step - loss: 2.1032e-04 - val_loss: 0.0033\n",
      "Epoch 83/100\n",
      "12/12 [==============================] - 3s 242ms/step - loss: 2.0991e-04 - val_loss: 0.0032\n",
      "Epoch 84/100\n",
      "12/12 [==============================] - 3s 237ms/step - loss: 1.9757e-04 - val_loss: 0.0017\n",
      "Epoch 85/100\n",
      "12/12 [==============================] - 2s 201ms/step - loss: 2.1996e-04 - val_loss: 0.0012\n",
      "Epoch 86/100\n",
      "12/12 [==============================] - 2s 198ms/step - loss: 2.5623e-04 - val_loss: 0.0018\n",
      "Epoch 87/100\n",
      "12/12 [==============================] - 3s 236ms/step - loss: 2.3086e-04 - val_loss: 0.0037\n",
      "Epoch 88/100\n",
      "12/12 [==============================] - 3s 239ms/step - loss: 2.0331e-04 - val_loss: 0.0032\n",
      "Epoch 89/100\n",
      "12/12 [==============================] - 2s 199ms/step - loss: 1.9963e-04 - val_loss: 0.0025\n",
      "Epoch 90/100\n",
      "12/12 [==============================] - 3s 214ms/step - loss: 1.8753e-04 - val_loss: 0.0016\n",
      "Epoch 91/100\n",
      "12/12 [==============================] - 2s 206ms/step - loss: 1.9620e-04 - val_loss: 0.0021\n",
      "Epoch 92/100\n",
      "12/12 [==============================] - 2s 204ms/step - loss: 1.8824e-04 - val_loss: 0.0033\n",
      "Epoch 93/100\n",
      "12/12 [==============================] - 3s 214ms/step - loss: 2.0038e-04 - val_loss: 0.0034\n",
      "Epoch 94/100\n",
      "12/12 [==============================] - 2s 193ms/step - loss: 2.2895e-04 - val_loss: 0.0023\n",
      "Epoch 95/100\n",
      "12/12 [==============================] - 2s 173ms/step - loss: 1.9382e-04 - val_loss: 0.0015\n",
      "Epoch 96/100\n",
      "12/12 [==============================] - 2s 168ms/step - loss: 2.4968e-04 - val_loss: 0.0016\n",
      "Epoch 97/100\n",
      "12/12 [==============================] - 2s 169ms/step - loss: 2.0058e-04 - val_loss: 0.0049\n",
      "Epoch 98/100\n",
      "12/12 [==============================] - 2s 185ms/step - loss: 2.1736e-04 - val_loss: 0.0016\n",
      "Epoch 99/100\n",
      "12/12 [==============================] - 2s 167ms/step - loss: 2.0564e-04 - val_loss: 0.0022\n",
      "Epoch 100/100\n",
      "12/12 [==============================] - 6s 533ms/step - loss: 1.8903e-04 - val_loss: 0.0045\n"
     ]
    },
    {
     "data": {
      "text/plain": [
       "<keras.callbacks.History at 0x15bedad4710>"
      ]
     },
     "execution_count": 37,
     "metadata": {},
     "output_type": "execute_result"
    }
   ],
   "source": [
    "model.fit(X_train,y_train,validation_data=(X_test,y_test),epochs=100,batch_size=64,verbose=1)"
   ]
  },
  {
   "cell_type": "code",
   "execution_count": 38,
   "metadata": {},
   "outputs": [],
   "source": [
    "train_predict=model.predict(X_train)\n",
    "test_predict=model.predict(X_test)\n",
    "##Transformback to original form\n",
    "train_predict=scaler.inverse_transform(train_predict)\n",
    "test_predict=scaler.inverse_transform(test_predict)"
   ]
  },
  {
   "cell_type": "code",
   "execution_count": 39,
   "metadata": {},
   "outputs": [
    {
     "data": {
      "text/plain": [
       "49.12835296363861"
      ]
     },
     "execution_count": 39,
     "metadata": {},
     "output_type": "execute_result"
    }
   ],
   "source": [
    "### Calculate RMSE performance metrics\n",
    "import math\n",
    "from sklearn.metrics import mean_squared_error\n",
    "math.sqrt(mean_squared_error(y_train,train_predict))"
   ]
  },
  {
   "cell_type": "code",
   "execution_count": 41,
   "metadata": {},
   "outputs": [
    {
     "data": {
      "text/plain": [
       "113.16685059305243"
      ]
     },
     "execution_count": 41,
     "metadata": {},
     "output_type": "execute_result"
    }
   ],
   "source": [
    "### Test Data RMSE\n",
    "math.sqrt(mean_squared_error(y_test,test_predict))"
   ]
  },
  {
   "cell_type": "code",
   "execution_count": 47,
   "metadata": {},
   "outputs": [
    {
     "name": "stderr",
     "output_type": "stream",
     "text": [
      "No handles with labels found to put in legend.\n"
     ]
    },
    {
     "data": {
      "text/plain": [
       "<matplotlib.legend.Legend at 0x15bf65169b0>"
      ]
     },
     "execution_count": 47,
     "metadata": {},
     "output_type": "execute_result"
    },
    {
     "data": {
      "image/png": "[encoded data removed]",
      "text/plain": [
       "<Figure size 432x288 with 1 Axes>"
      ]
     },
     "metadata": {
      "needs_background": "light"
     },
     "output_type": "display_data"
    }
   ],
   "source": [
    "### Plotting \n",
    "# shift train predictions for plotting\n",
    "look_back=100\n",
    "trainPredictPlot = np.empty_like(df1)\n",
    "trainPredictPlot[:, :] = np.nan\n",
    "trainPredictPlot[look_back:len(train_predict)+look_back, :] = train_predict\n",
    "# shift test predictions for plotting\n",
    "testPredictPlot = np.empty_like(df1)\n",
    "testPredictPlot[:, :] = np.nan\n",
    "testPredictPlot[len(train_predict)+(look_back*2)+1:len(df1)-1, :] = test_predict\n",
    "# plot baseline and predictions\n",
    "plt.plot(scaler.inverse_transform(df1))\n",
    "plt.plot(trainPredictPlot)\n",
    "plt.plot(testPredictPlot)\n",
    "plt.legend()"
   ]
  },
  {
   "cell_type": "code",
   "execution_count": 51,
   "metadata": {},
   "outputs": [
    {
     "name": "stdout",
     "output_type": "stream",
     "text": [
      "(1, 30)\n"
     ]
    }
   ],
   "source": [
    "x_input=test_data[341:].reshape(1,-1)\n",
    "print(x_input.shape)\n",
    "temp_input=list(x_input)\n",
    "temp_input=temp_input[0].tolist()"
   ]
  },
  {
   "cell_type": "code",
   "execution_count": 53,
   "metadata": {},
   "outputs": [
    {
     "name": "stdout",
     "output_type": "stream",
     "text": [
      "WARNING:tensorflow:Model was constructed with shape (None, 100, 1) for input KerasTensor(type_spec=TensorSpec(shape=(None, 100, 1), dtype=tf.float32, name='lstm_input'), name='lstm_input', description=\"created by layer 'lstm_input'\"), but it was called on an input with incompatible shape (None, 30, 1).\n",
      "[0.62180185]\n",
      "31\n",
      "[0.62180185]\n",
      "32\n",
      "[0.62180185]\n",
      "33\n",
      "[0.62180185]\n",
      "34\n",
      "[0.62180185]\n",
      "35\n",
      "[0.62180185]\n",
      "36\n",
      "[0.62180185]\n",
      "37\n",
      "[0.62180185]\n",
      "38\n",
      "[0.62180185]\n",
      "39\n",
      "[0.62180185]\n",
      "40\n",
      "[0.62180185]\n",
      "41\n",
      "[0.62180185]\n",
      "42\n",
      "[0.62180185]\n",
      "43\n",
      "[0.62180185]\n",
      "44\n",
      "[0.62180185]\n",
      "45\n",
      "[0.62180185]\n",
      "46\n",
      "[0.62180185]\n",
      "47\n",
      "[0.62180185]\n",
      "48\n",
      "[0.62180185]\n",
      "49\n",
      "[0.62180185]\n",
      "50\n",
      "[0.62180185]\n",
      "51\n",
      "[0.62180185]\n",
      "52\n",
      "[0.62180185]\n",
      "53\n",
      "[0.62180185]\n",
      "54\n",
      "[0.62180185]\n",
      "55\n",
      "[0.62180185]\n",
      "56\n",
      "[0.62180185]\n",
      "57\n",
      "[0.62180185]\n",
      "58\n",
      "[0.62180185]\n",
      "59\n",
      "[0.62180185]\n",
      "60\n",
      "[[0.6218018531799316], [0.6218018531799316], [0.6218018531799316], [0.6218018531799316], [0.6218018531799316], [0.6218018531799316], [0.6218018531799316], [0.6218018531799316], [0.6218018531799316], [0.6218018531799316], [0.6218018531799316], [0.6218018531799316], [0.6218018531799316], [0.6218018531799316], [0.6218018531799316], [0.6218018531799316], [0.6218018531799316], [0.6218018531799316], [0.6218018531799316], [0.6218018531799316], [0.6218018531799316], [0.6218018531799316], [0.6218018531799316], [0.6218018531799316], [0.6218018531799316], [0.6218018531799316], [0.6218018531799316], [0.6218018531799316], [0.6218018531799316], [0.6218018531799316]]\n"
     ]
    }
   ],
   "source": [
    "# demonstrate prediction for next 10 days\n",
    "from numpy import array\n",
    "\n",
    "lst_output=[]\n",
    "n_steps=30\n",
    "i=0\n",
    "while(i<30):\n",
    "    \n",
    "    if(len(temp_input)>100):\n",
    "        #print(temp_input)\n",
    "        x_input=np.array(temp_input[1:])\n",
    "        print(\"{} day input {}\".format(i,x_input))\n",
    "        x_input=x_input.reshape(1,-1)\n",
    "        x_input = x_input.reshape((1, n_steps, 1))\n",
    "        #print(x_input)\n",
    "        yhat = model.predict(x_input, verbose=0)\n",
    "        print(\"{} day output {}\".format(i,yhat))\n",
    "        temp_input.extend(yhat[0].tolist())\n",
    "        temp_input=temp_input[1:]\n",
    "        #print(temp_input)\n",
    "        lst_output.extend(yhat.tolist())\n",
    "        i=i+1\n",
    "    else:\n",
    "        x_input = x_input.reshape((1, n_steps,1))\n",
    "        yhat = model.predict(x_input, verbose=0)\n",
    "        print(yhat[0])\n",
    "        temp_input.extend(yhat[0].tolist())\n",
    "        print(len(temp_input))\n",
    "        lst_output.extend(yhat.tolist())\n",
    "        i=i+1\n",
    "    \n",
    "\n",
    "print(lst_output)"
   ]
  },
  {
   "cell_type": "code",
   "execution_count": 54,
   "metadata": {},
   "outputs": [],
   "source": [
    "day_new=np.arange(1,101)\n",
    "day_pred=np.arange(101,131)"
   ]
  },
  {
   "cell_type": "code",
   "execution_count": 55,
   "metadata": {},
   "outputs": [
    {
     "data": {
      "text/plain": [
       "1235"
      ]
     },
     "execution_count": 55,
     "metadata": {},
     "output_type": "execute_result"
    }
   ],
   "source": [
    "len(df1)"
   ]
  },
  {
   "cell_type": "code",
   "execution_count": null,
   "metadata": {},
   "outputs": [],
   "source": []
  },
  {
   "cell_type": "code",
   "execution_count": null,
   "metadata": {},
   "outputs": [],
   "source": []
  },
  {
   "cell_type": "code",
   "execution_count": null,
   "metadata": {},
   "outputs": [],
   "source": []
  }
 ],
 "metadata": {
  "kernelspec": {
   "display_name": "Python 3",
   "language": "python",
   "name": "python3"
  },
  "language_info": {
   "codemirror_mode": {
    "name": "ipython",
    "version": 3
   },
   "file_extension": ".py",
   "mimetype": "text/x-python",
   "name": "python",
   "nbconvert_exporter": "python",
   "pygments_lexer": "ipython3",
   "version": "3.6.5"
  }
 },
 "nbformat": 4,
 "nbformat_minor": 4
}
